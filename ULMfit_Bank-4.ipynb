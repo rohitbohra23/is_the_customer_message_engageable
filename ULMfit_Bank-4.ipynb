{
 "cells": [
  {
   "cell_type": "code",
   "execution_count": 1,
   "metadata": {
    "colab": {},
    "colab_type": "code",
    "id": "k9SPXkk2n8bq"
   },
   "outputs": [],
   "source": [
    "#opening the pickle file that was saved after the cleaning process\n",
    "import pickle \n",
    "file = open(\"training.pkl\",'rb')"
   ]
  },
  {
   "cell_type": "code",
   "execution_count": 2,
   "metadata": {
    "colab": {},
    "colab_type": "code",
    "id": "2IVi9rklpZng"
   },
   "outputs": [],
   "source": [
    "# loading the pickjle file\n",
    "data = pickle.load(file)"
   ]
  },
  {
   "cell_type": "code",
   "execution_count": 3,
   "metadata": {
    "colab": {
     "base_uri": "https://localhost:8080/",
     "height": 198
    },
    "colab_type": "code",
    "id": "y09_Xwd6pqLF",
    "outputId": "724b3c3c-3f26-414f-daad-f6fdf6cf5661"
   },
   "outputs": [
    {
     "data": {
      "text/html": [
       "<div>\n",
       "<style scoped>\n",
       "    .dataframe tbody tr th:only-of-type {\n",
       "        vertical-align: middle;\n",
       "    }\n",
       "\n",
       "    .dataframe tbody tr th {\n",
       "        vertical-align: top;\n",
       "    }\n",
       "\n",
       "    .dataframe thead th {\n",
       "        text-align: right;\n",
       "    }\n",
       "</style>\n",
       "<table border=\"1\" class=\"dataframe\">\n",
       "  <thead>\n",
       "    <tr style=\"text-align: right;\">\n",
       "      <th></th>\n",
       "      <th>Message</th>\n",
       "      <th>Validation1</th>\n",
       "      <th>Engage</th>\n",
       "      <th>CleanedText</th>\n",
       "      <th>PreserveStopwords</th>\n",
       "    </tr>\n",
       "  </thead>\n",
       "  <tbody>\n",
       "    <tr>\n",
       "      <th>13</th>\n",
       "      <td>Hi</td>\n",
       "      <td>8</td>\n",
       "      <td>0</td>\n",
       "      <td></td>\n",
       "      <td>hi</td>\n",
       "    </tr>\n",
       "    <tr>\n",
       "      <th>14</th>\n",
       "      <td>Ok</td>\n",
       "      <td>7</td>\n",
       "      <td>0</td>\n",
       "      <td></td>\n",
       "      <td>ok</td>\n",
       "    </tr>\n",
       "    <tr>\n",
       "      <th>15</th>\n",
       "      <td>No</td>\n",
       "      <td>7</td>\n",
       "      <td>0</td>\n",
       "      <td></td>\n",
       "      <td>no</td>\n",
       "    </tr>\n",
       "    <tr>\n",
       "      <th>18</th>\n",
       "      <td>Ya</td>\n",
       "      <td>7</td>\n",
       "      <td>0</td>\n",
       "      <td></td>\n",
       "      <td>ya</td>\n",
       "    </tr>\n",
       "    <tr>\n",
       "      <th>23</th>\n",
       "      <td>Pm</td>\n",
       "      <td>7</td>\n",
       "      <td>0</td>\n",
       "      <td></td>\n",
       "      <td>pm</td>\n",
       "    </tr>\n",
       "  </tbody>\n",
       "</table>\n",
       "</div>"
      ],
      "text/plain": [
       "   Message  Validation1  Engage CleanedText PreserveStopwords\n",
       "13      Hi            8       0                            hi\n",
       "14      Ok            7       0                            ok\n",
       "15      No            7       0                            no\n",
       "18      Ya            7       0                            ya\n",
       "23      Pm            7       0                            pm"
      ]
     },
     "execution_count": 3,
     "metadata": {},
     "output_type": "execute_result"
    }
   ],
   "source": [
    "data.head()"
   ]
  },
  {
   "cell_type": "code",
   "execution_count": 4,
   "metadata": {
    "colab": {},
    "colab_type": "code",
    "id": "CtoJZjXhp51M"
   },
   "outputs": [],
   "source": [
    "X = data.PreserveStopwords\n",
    "Y = data.Engage"
   ]
  },
  {
   "cell_type": "code",
   "execution_count": 5,
   "metadata": {
    "colab": {},
    "colab_type": "code",
    "id": "xUEXHnL9qZaL"
   },
   "outputs": [],
   "source": [
    "df = data[['PreserveStopwords', 'Engage']]"
   ]
  },
  {
   "cell_type": "code",
   "execution_count": 6,
   "metadata": {
    "colab": {
     "base_uri": "https://localhost:8080/",
     "height": 198
    },
    "colab_type": "code",
    "id": "VJKPj_g-rXaP",
    "outputId": "0d53f2a4-14f8-4199-d531-8d1801c44968"
   },
   "outputs": [
    {
     "data": {
      "text/html": [
       "<div>\n",
       "<style scoped>\n",
       "    .dataframe tbody tr th:only-of-type {\n",
       "        vertical-align: middle;\n",
       "    }\n",
       "\n",
       "    .dataframe tbody tr th {\n",
       "        vertical-align: top;\n",
       "    }\n",
       "\n",
       "    .dataframe thead th {\n",
       "        text-align: right;\n",
       "    }\n",
       "</style>\n",
       "<table border=\"1\" class=\"dataframe\">\n",
       "  <thead>\n",
       "    <tr style=\"text-align: right;\">\n",
       "      <th></th>\n",
       "      <th>PreserveStopwords</th>\n",
       "      <th>Engage</th>\n",
       "    </tr>\n",
       "  </thead>\n",
       "  <tbody>\n",
       "    <tr>\n",
       "      <th>13</th>\n",
       "      <td>hi</td>\n",
       "      <td>0</td>\n",
       "    </tr>\n",
       "    <tr>\n",
       "      <th>14</th>\n",
       "      <td>ok</td>\n",
       "      <td>0</td>\n",
       "    </tr>\n",
       "    <tr>\n",
       "      <th>15</th>\n",
       "      <td>no</td>\n",
       "      <td>0</td>\n",
       "    </tr>\n",
       "    <tr>\n",
       "      <th>18</th>\n",
       "      <td>ya</td>\n",
       "      <td>0</td>\n",
       "    </tr>\n",
       "    <tr>\n",
       "      <th>23</th>\n",
       "      <td>pm</td>\n",
       "      <td>0</td>\n",
       "    </tr>\n",
       "  </tbody>\n",
       "</table>\n",
       "</div>"
      ],
      "text/plain": [
       "   PreserveStopwords  Engage\n",
       "13                hi       0\n",
       "14                ok       0\n",
       "15                no       0\n",
       "18                ya       0\n",
       "23                pm       0"
      ]
     },
     "execution_count": 6,
     "metadata": {},
     "output_type": "execute_result"
    }
   ],
   "source": [
    "df.head()"
   ]
  },
  {
   "cell_type": "code",
   "execution_count": 7,
   "metadata": {
    "colab": {
     "base_uri": "https://localhost:8080/",
     "height": 849
    },
    "colab_type": "code",
    "id": "I11bNqBKonHJ",
    "outputId": "efbeafe4-9041-45b3-bd41-49f0a462ac56"
   },
   "outputs": [
    {
     "name": "stdout",
     "output_type": "stream",
     "text": [
      "Looking in links: https://download.pytorch.org/whl/nightly/cu92/torch_nightly.html\n",
      "Collecting torch_nightly\n",
      "\u001b[31m  ERROR: Could not find a version that satisfies the requirement torch_nightly (from versions: none)\u001b[0m\n",
      "\u001b[31mERROR: No matching distribution found for torch_nightly\u001b[0m\n",
      "Requirement already satisfied: fastai in /Users/rohitbohra/anaconda3/lib/python3.6/site-packages (1.0.52)\n",
      "Requirement already satisfied: matplotlib in /Users/rohitbohra/anaconda3/lib/python3.6/site-packages (from fastai) (2.2.2)\n",
      "Requirement already satisfied: pynvx>=1.0.0; platform_system == \"Darwin\" in /Users/rohitbohra/anaconda3/lib/python3.6/site-packages (from fastai) (1.0.0)\n",
      "Requirement already satisfied: numpy>=1.15 in /Users/rohitbohra/anaconda3/lib/python3.6/site-packages (from fastai) (1.16.2)\n",
      "Requirement already satisfied: pandas in /Users/rohitbohra/anaconda3/lib/python3.6/site-packages (from fastai) (0.23.0)\n",
      "Requirement already satisfied: typing in /Users/rohitbohra/anaconda3/lib/python3.6/site-packages (from fastai) (3.6.4)\n",
      "Requirement already satisfied: packaging in /Users/rohitbohra/anaconda3/lib/python3.6/site-packages (from fastai) (17.1)\n",
      "Requirement already satisfied: fastprogress>=0.1.19 in /Users/rohitbohra/anaconda3/lib/python3.6/site-packages (from fastai) (0.1.21)\n",
      "Requirement already satisfied: scipy in /Users/rohitbohra/anaconda3/lib/python3.6/site-packages (from fastai) (1.1.0)\n",
      "Requirement already satisfied: torchvision in /Users/rohitbohra/anaconda3/lib/python3.6/site-packages (from fastai) (0.2.1)\n",
      "Requirement already satisfied: Pillow in /Users/rohitbohra/anaconda3/lib/python3.6/site-packages (from fastai) (5.1.0)\n",
      "Requirement already satisfied: nvidia-ml-py3 in /Users/rohitbohra/anaconda3/lib/python3.6/site-packages (from fastai) (7.352.0)\n",
      "Requirement already satisfied: spacy>=2.0.18 in /Users/rohitbohra/anaconda3/lib/python3.6/site-packages (from fastai) (2.1.4)\n",
      "Requirement already satisfied: dataclasses; python_version < \"3.7\" in /Users/rohitbohra/anaconda3/lib/python3.6/site-packages (from fastai) (0.6)\n",
      "Requirement already satisfied: beautifulsoup4 in /Users/rohitbohra/anaconda3/lib/python3.6/site-packages (from fastai) (4.6.0)\n",
      "Requirement already satisfied: pyyaml in /Users/rohitbohra/anaconda3/lib/python3.6/site-packages (from fastai) (3.12)\n",
      "Requirement already satisfied: bottleneck in /Users/rohitbohra/anaconda3/lib/python3.6/site-packages (from fastai) (1.2.1)\n",
      "Requirement already satisfied: numexpr in /Users/rohitbohra/anaconda3/lib/python3.6/site-packages (from fastai) (2.6.5)\n",
      "Requirement already satisfied: requests in /Users/rohitbohra/anaconda3/lib/python3.6/site-packages (from fastai) (2.18.4)\n",
      "Requirement already satisfied: torch>=1.0.0 in /Users/rohitbohra/anaconda3/lib/python3.6/site-packages (from fastai) (1.0.0)\n",
      "Requirement already satisfied: cycler>=0.10 in /Users/rohitbohra/anaconda3/lib/python3.6/site-packages (from matplotlib->fastai) (0.10.0)\n",
      "Requirement already satisfied: pyparsing!=2.0.4,!=2.1.2,!=2.1.6,>=2.0.1 in /Users/rohitbohra/anaconda3/lib/python3.6/site-packages (from matplotlib->fastai) (2.2.0)\n",
      "Requirement already satisfied: python-dateutil>=2.1 in /Users/rohitbohra/anaconda3/lib/python3.6/site-packages (from matplotlib->fastai) (2.7.3)\n",
      "Requirement already satisfied: pytz in /Users/rohitbohra/anaconda3/lib/python3.6/site-packages (from matplotlib->fastai) (2018.4)\n",
      "Requirement already satisfied: six>=1.10 in /Users/rohitbohra/anaconda3/lib/python3.6/site-packages (from matplotlib->fastai) (1.11.0)\n",
      "Requirement already satisfied: kiwisolver>=1.0.1 in /Users/rohitbohra/anaconda3/lib/python3.6/site-packages (from matplotlib->fastai) (1.0.1)\n",
      "Requirement already satisfied: cymem<2.1.0,>=2.0.2 in /Users/rohitbohra/anaconda3/lib/python3.6/site-packages (from spacy>=2.0.18->fastai) (2.0.2)\n",
      "Requirement already satisfied: srsly<1.1.0,>=0.0.5 in /Users/rohitbohra/anaconda3/lib/python3.6/site-packages (from spacy>=2.0.18->fastai) (0.0.6)\n",
      "Requirement already satisfied: blis<0.3.0,>=0.2.2 in /Users/rohitbohra/anaconda3/lib/python3.6/site-packages (from spacy>=2.0.18->fastai) (0.2.4)\n",
      "Requirement already satisfied: plac<1.0.0,>=0.9.6 in /Users/rohitbohra/anaconda3/lib/python3.6/site-packages (from spacy>=2.0.18->fastai) (0.9.6)\n",
      "Requirement already satisfied: wasabi<1.1.0,>=0.2.0 in /Users/rohitbohra/anaconda3/lib/python3.6/site-packages (from spacy>=2.0.18->fastai) (0.2.2)\n",
      "Requirement already satisfied: preshed<2.1.0,>=2.0.1 in /Users/rohitbohra/anaconda3/lib/python3.6/site-packages (from spacy>=2.0.18->fastai) (2.0.1)\n",
      "Requirement already satisfied: jsonschema<3.1.0,>=2.6.0 in /Users/rohitbohra/anaconda3/lib/python3.6/site-packages (from spacy>=2.0.18->fastai) (2.6.0)\n",
      "Requirement already satisfied: murmurhash<1.1.0,>=0.28.0 in /Users/rohitbohra/anaconda3/lib/python3.6/site-packages (from spacy>=2.0.18->fastai) (0.28.0)\n",
      "Requirement already satisfied: thinc<7.1.0,>=7.0.2 in /Users/rohitbohra/anaconda3/lib/python3.6/site-packages (from spacy>=2.0.18->fastai) (7.0.4)\n",
      "Requirement already satisfied: chardet<3.1.0,>=3.0.2 in /Users/rohitbohra/anaconda3/lib/python3.6/site-packages (from requests->fastai) (3.0.4)\n",
      "Requirement already satisfied: idna<2.7,>=2.5 in /Users/rohitbohra/anaconda3/lib/python3.6/site-packages (from requests->fastai) (2.6)\n",
      "Requirement already satisfied: urllib3<1.23,>=1.21.1 in /Users/rohitbohra/anaconda3/lib/python3.6/site-packages (from requests->fastai) (1.22)\n",
      "Requirement already satisfied: certifi>=2017.4.17 in /Users/rohitbohra/anaconda3/lib/python3.6/site-packages (from requests->fastai) (2018.4.16)\n",
      "Requirement already satisfied: setuptools in /Users/rohitbohra/anaconda3/lib/python3.6/site-packages (from kiwisolver>=1.0.1->matplotlib->fastai) (41.0.1)\n",
      "Requirement already satisfied: tqdm<5.0.0,>=4.10.0 in /Users/rohitbohra/anaconda3/lib/python3.6/site-packages (from thinc<7.1.0,>=7.0.2->spacy>=2.0.18->fastai) (4.31.1)\n"
     ]
    }
   ],
   "source": [
    "#installing the fastai packages \n",
    "!pip install torch_nightly -f https://download.pytorch.org/whl/nightly/cu92/torch_nightly.html\n",
    "!pip install fastai"
   ]
  },
  {
   "cell_type": "code",
   "execution_count": 8,
   "metadata": {
    "colab": {},
    "colab_type": "code",
    "id": "fkiezJx1oq9V"
   },
   "outputs": [],
   "source": [
    "# import the packages\n",
    "import fastai\n",
    "from fastai import *\n",
    "from fastai.text import * \n",
    "import pandas as pd\n",
    "import numpy as np\n",
    "from functools import partial\n",
    "import io\n",
    "import os"
   ]
  },
  {
   "cell_type": "code",
   "execution_count": 9,
   "metadata": {
    "colab": {},
    "colab_type": "code",
    "id": "Dm7MDFBcoyef"
   },
   "outputs": [],
   "source": [
    "#Splitting the data into train data and test data\n",
    "from sklearn.model_selection import train_test_split\n",
    "\n",
    "# split data into training and validation set\n",
    "df_trn, df_val = train_test_split(df, test_size = 0.2, random_state = 42)"
   ]
  },
  {
   "cell_type": "code",
   "execution_count": 10,
   "metadata": {
    "colab": {
     "base_uri": "https://localhost:8080/",
     "height": 35
    },
    "colab_type": "code",
    "id": "MzNTW5N9ru2i",
    "outputId": "8625a705-4c1d-4bfa-8449-0f8279430827"
   },
   "outputs": [
    {
     "data": {
      "text/plain": [
       "((37221, 2), (9306, 2))"
      ]
     },
     "execution_count": 10,
     "metadata": {},
     "output_type": "execute_result"
    }
   ],
   "source": [
    "df_trn.shape, df_val.shape"
   ]
  },
  {
   "cell_type": "code",
   "execution_count": 11,
   "metadata": {
    "colab": {
     "base_uri": "https://localhost:8080/",
     "height": 198
    },
    "colab_type": "code",
    "id": "T5SJTKlwwvbe",
    "outputId": "438e9931-3c6f-471c-9ff7-3fb7cf31605c"
   },
   "outputs": [
    {
     "data": {
      "text/html": [
       "<div>\n",
       "<style scoped>\n",
       "    .dataframe tbody tr th:only-of-type {\n",
       "        vertical-align: middle;\n",
       "    }\n",
       "\n",
       "    .dataframe tbody tr th {\n",
       "        vertical-align: top;\n",
       "    }\n",
       "\n",
       "    .dataframe thead th {\n",
       "        text-align: right;\n",
       "    }\n",
       "</style>\n",
       "<table border=\"1\" class=\"dataframe\">\n",
       "  <thead>\n",
       "    <tr style=\"text-align: right;\">\n",
       "      <th></th>\n",
       "      <th>PreserveStopwords</th>\n",
       "      <th>Engage</th>\n",
       "    </tr>\n",
       "  </thead>\n",
       "  <tbody>\n",
       "    <tr>\n",
       "      <th>4083</th>\n",
       "      <td>can someone pelase answer me chasesupport</td>\n",
       "      <td>0</td>\n",
       "    </tr>\n",
       "    <tr>\n",
       "      <th>12446</th>\n",
       "      <td>hi i use the chase app on my phone to deposit ...</td>\n",
       "      <td>1</td>\n",
       "    </tr>\n",
       "    <tr>\n",
       "      <th>4219</th>\n",
       "      <td>hsbc uk after opening my student account i sti...</td>\n",
       "      <td>1</td>\n",
       "    </tr>\n",
       "    <tr>\n",
       "      <th>4830</th>\n",
       "      <td>hsbc uk your customer service is absolutely di...</td>\n",
       "      <td>1</td>\n",
       "    </tr>\n",
       "    <tr>\n",
       "      <th>623</th>\n",
       "      <td></td>\n",
       "      <td>0</td>\n",
       "    </tr>\n",
       "  </tbody>\n",
       "</table>\n",
       "</div>"
      ],
      "text/plain": [
       "                                       PreserveStopwords  Engage\n",
       "4083           can someone pelase answer me chasesupport       0\n",
       "12446  hi i use the chase app on my phone to deposit ...       1\n",
       "4219   hsbc uk after opening my student account i sti...       1\n",
       "4830   hsbc uk your customer service is absolutely di...       1\n",
       "623                                                            0"
      ]
     },
     "execution_count": 11,
     "metadata": {},
     "output_type": "execute_result"
    }
   ],
   "source": [
    "df_trn.head()"
   ]
  },
  {
   "cell_type": "code",
   "execution_count": 12,
   "metadata": {
    "colab": {},
    "colab_type": "code",
    "id": "Ql11ufbQyq4x"
   },
   "outputs": [],
   "source": [
    "# Columns of text is assigned to TEXT_COLS and Label is assigned to LABEL_COLS\n",
    "TEXT_COLS = ['PreserveStopwords']\n",
    "LABEL_COLS = ['Engage']"
   ]
  },
  {
   "cell_type": "code",
   "execution_count": 13,
   "metadata": {
    "colab": {},
    "colab_type": "code",
    "id": "KwXaobuUrmS9"
   },
   "outputs": [],
   "source": [
    "# Language model data\n",
    "data_lm = TextLMDataBunch.from_df(os.getcwd(), train_df = df_trn, valid_df = df_val, text_cols=TEXT_COLS)"
   ]
  },
  {
   "cell_type": "code",
   "execution_count": 14,
   "metadata": {
    "colab": {
     "base_uri": "https://localhost:8080/",
     "height": 371
    },
    "colab_type": "code",
    "id": "fvZ--q5YtjkL",
    "outputId": "fd2182c8-9fee-40c6-a4ac-0e063660ac2d"
   },
   "outputs": [
    {
     "data": {
      "text/html": [
       "<table border=\"1\" class=\"dataframe\">\n",
       "  <thead>\n",
       "    <tr style=\"text-align: right;\">\n",
       "      <th>idx</th>\n",
       "      <th>text</th>\n",
       "    </tr>\n",
       "  </thead>\n",
       "  <tbody>\n",
       "    <tr>\n",
       "      <td>0</td>\n",
       "      <td>is absolutely xxunk if you can even call it customer service xxbos xxbos hsbc uk i need to change my surname and address in branch will my updated passport and licence along with marriage cert be enough proof xxbos askciti called again and this time they re saying it s a yahoo issue not a macy s issue like i was told last time i m just not receiving the</td>\n",
       "    </tr>\n",
       "    <tr>\n",
       "      <td>1</td>\n",
       "      <td>i was charged for insufficient funds in my account amounting to this maybe a over draft fee however the initial charge that caused the overdraft should not be there it s from amazon and i have a free month student prime account https t co c xxunk xxbos sure xxbos seriously need to leave chase they fucking suck anyone have any other suggestions xxbos wellsfargonews you assholes opened a account</td>\n",
       "    </tr>\n",
       "    <tr>\n",
       "      <td>2</td>\n",
       "      <td>me so i can give you their phone number xxbos ok where can i see the date where i was approved is it on my account profile in the chase website xxbos iv never seen a credit card company charge you for making payments in ful early until i got with citi xxbos citi you are pathetic bank so are your fucking employees xxbos if apply online the cash back</td>\n",
       "    </tr>\n",
       "    <tr>\n",
       "      <td>3</td>\n",
       "      <td>sabb ecare i paid my credit card bill more than an hour ago and the funds were debited from my current account but the outstanding amount is still showing on my credit card bill please let me know why this is xxbos hi it s xxbos hello citi bank thank you for this opportunity so here is my imperfecttoperfect story for travelbigwithciti contest so i am a very shy kind</td>\n",
       "    </tr>\n",
       "    <tr>\n",
       "      <td>4</td>\n",
       "      <td>machine in dagupan thanks xxbos chasesupport any plans to update the app to fill the iphone x screen xxbos hsbc uk yeah i don t have any other accounts with you xxbos still have not gotten any more info on my fraud case from you everyone says they are working on it and nothing happens https t co xxunk ay xxbos wellsfargo atm literally just ate my debit card and</td>\n",
       "    </tr>\n",
       "  </tbody>\n",
       "</table>"
      ],
      "text/plain": [
       "<IPython.core.display.HTML object>"
      ]
     },
     "metadata": {},
     "output_type": "display_data"
    }
   ],
   "source": [
    "#batch of text data \n",
    "data_lm.show_batch()"
   ]
  },
  {
   "cell_type": "code",
   "execution_count": 15,
   "metadata": {
    "colab": {},
    "colab_type": "code",
    "id": "y_Xv0s_Crs2B"
   },
   "outputs": [],
   "source": [
    "learn = language_model_learner(data_lm, arch=AWD_LSTM, drop_mult=0.7)"
   ]
  },
  {
   "cell_type": "code",
   "execution_count": 16,
   "metadata": {
    "colab": {
     "base_uri": "https://localhost:8080/",
     "height": 35
    },
    "colab_type": "code",
    "id": "Nt-Lo81bsOf_",
    "outputId": "ea1a2b97-fa6f-4f27-ce0f-ee85508d9264"
   },
   "outputs": [
    {
     "data": {
      "text/html": [],
      "text/plain": [
       "<IPython.core.display.HTML object>"
      ]
     },
     "metadata": {},
     "output_type": "display_data"
    },
    {
     "name": "stdout",
     "output_type": "stream",
     "text": [
      "LR Finder is complete, type {learner_name}.recorder.plot() to see the graph.\n"
     ]
    }
   ],
   "source": [
    "learn.lr_find()"
   ]
  },
  {
   "cell_type": "code",
   "execution_count": 17,
   "metadata": {
    "colab": {
     "base_uri": "https://localhost:8080/",
     "height": 318
    },
    "colab_type": "code",
    "id": "WWRFRp2mt0Ti",
    "outputId": "4b601341-d317-4531-cc76-a241f145c11c"
   },
   "outputs": [
    {
     "name": "stdout",
     "output_type": "stream",
     "text": [
      "Min numerical gradient: 6.92E-02\n"
     ]
    },
    {
     "data": {
      "image/png": "[encoded data removed]",
      "text/plain": [
       "<Figure size 432x288 with 1 Axes>"
      ]
     },
     "metadata": {},
     "output_type": "display_data"
    }
   ],
   "source": [
    "learn.recorder.plot(suggestion=True)"
   ]
  },
  {
   "cell_type": "code",
   "execution_count": 23,
   "metadata": {
    "colab": {},
    "colab_type": "code",
    "id": "DaFYYlR3v5e8"
   },
   "outputs": [],
   "source": [
    "learn.save_encoder('ft_enc')"
   ]
  },
  {
   "cell_type": "code",
   "execution_count": 18,
   "metadata": {
    "colab": {
     "base_uri": "https://localhost:8080/",
     "height": 35
    },
    "colab_type": "code",
    "id": "A1OB73abuXFf",
    "outputId": "5628750f-5cd0-4853-c226-47c1cb2ea0d5"
   },
   "outputs": [
    {
     "data": {
      "text/plain": [
       "0.06918309709189363"
      ]
     },
     "execution_count": 18,
     "metadata": {},
     "output_type": "execute_result"
    }
   ],
   "source": [
    "#best of learning model, learning rate\n",
    "best_lm_lr = learn.recorder.min_grad_lr\n",
    "best_lm_lr"
   ]
  },
  {
   "cell_type": "code",
   "execution_count": 19,
   "metadata": {
    "colab": {
     "base_uri": "https://localhost:8080/",
     "height": 78
    },
    "colab_type": "code",
    "id": "zR4UVxpKuvqq",
    "outputId": "111f42ea-4ee7-443d-a45a-62b91e0275cb"
   },
   "outputs": [
    {
     "data": {
      "text/html": [
       "<table border=\"1\" class=\"dataframe\">\n",
       "  <thead>\n",
       "    <tr style=\"text-align: left;\">\n",
       "      <th>epoch</th>\n",
       "      <th>train_loss</th>\n",
       "      <th>valid_loss</th>\n",
       "      <th>accuracy</th>\n",
       "      <th>time</th>\n",
       "    </tr>\n",
       "  </thead>\n",
       "  <tbody>\n",
       "    <tr>\n",
       "      <td>0</td>\n",
       "      <td>5.146320</td>\n",
       "      <td>4.692677</td>\n",
       "      <td>0.202812</td>\n",
       "      <td>44:28</td>\n",
       "    </tr>\n",
       "  </tbody>\n",
       "</table>"
      ],
      "text/plain": [
       "<IPython.core.display.HTML object>"
      ]
     },
     "metadata": {},
     "output_type": "display_data"
    }
   ],
   "source": [
    "# train the learner object with learning rate = 1e-2\n",
    "learn.fit_one_cycle(1, best_lm_lr)"
   ]
  },
  {
   "cell_type": "markdown",
   "metadata": {},
   "source": [
    "#    "
   ]
  },
  {
   "cell_type": "code",
   "execution_count": 22,
   "metadata": {
    "colab": {
     "base_uri": "https://localhost:8080/",
     "height": 35
    },
    "colab_type": "code",
    "id": "A7ZHHTIvuvjx",
    "outputId": "51d02016-c778-4cc6-ca7c-cf0a55f3a528"
   },
   "outputs": [
    {
     "data": {
      "text/plain": [
       "'I want to open a savings account'"
      ]
     },
     "execution_count": 22,
     "metadata": {},
     "output_type": "execute_result"
    }
   ],
   "source": [
    "# learning model predicting the next 5 words given first two words\n",
    "learn.predict('I want', n_words=5)"
   ]
  },
  {
   "cell_type": "markdown",
   "metadata": {},
   "source": [
    "#   "
   ]
  },
  {
   "cell_type": "markdown",
   "metadata": {
    "colab_type": "text",
    "id": "k5WdJ09kwBrJ"
   },
   "source": [
    "# Classification model"
   ]
  },
  {
   "cell_type": "code",
   "execution_count": 24,
   "metadata": {
    "colab": {},
    "colab_type": "code",
    "id": "9uKtlhzJwA1s"
   },
   "outputs": [],
   "source": [
    "# Classifier model data\n",
    "data_clas = TextClasDataBunch.from_df(os.getcwd(), train_df = df_trn, valid_df=df_val,text_cols=TEXT_COLS, label_cols=LABEL_COLS, bs=32)"
   ]
  },
  {
   "cell_type": "code",
   "execution_count": 25,
   "metadata": {
    "colab": {
     "base_uri": "https://localhost:8080/",
     "height": 371
    },
    "colab_type": "code",
    "id": "bF3l8-RawRC4",
    "outputId": "3c120629-afcb-4bd2-820f-b2025a64c9f2"
   },
   "outputs": [
    {
     "data": {
      "text/html": [
       "<table border=\"1\" class=\"dataframe\">\n",
       "  <thead>\n",
       "    <tr style=\"text-align: right;\">\n",
       "      <th>text</th>\n",
       "      <th>target</th>\n",
       "    </tr>\n",
       "  </thead>\n",
       "  <tbody>\n",
       "    <tr>\n",
       "      <td>xxbos xxunk xxunk xxunk amen i am jason tole him was nekosolos and awas like honor to send this story in us to glory of his name i was a kid years old xxunk and a was in the phillipines right now live i witness the gresious of god on to me and awas like happy that his tole me this feeling i m am glad and happy becouse of</td>\n",
       "      <td>1</td>\n",
       "    </tr>\n",
       "    <tr>\n",
       "      <td>xxbos i ve been waiting to here back from the i believe i was told the cash department as of a couple weeks ago i made a payment on for that was suppose to bring the loan current as i told them my bank shows the money coming out of the account on i haven t heard back from anyone at wellsfargo yet i told them my bank said they</td>\n",
       "      <td>1</td>\n",
       "    </tr>\n",
       "    <tr>\n",
       "      <td>xxbos erin davis a few months ago i encountered some financial difficulties i won t go in to a sob story because it isn t important to the issue at hand but i found myself unable to make my credit card payment i got things back on track and called customer service to see about making arrangements to get everything squared away with my account the representative i spoke with</td>\n",
       "      <td>1</td>\n",
       "    </tr>\n",
       "    <tr>\n",
       "      <td>xxbos hi i am writing this email to show great dissatisfaction towards citi bank i have marked several email but never got any revert from citi banks end i have never expected such a lame customer service from citi bank the story starts when i made a foreign transaction from citibank card which was against citibanks policy after that bank ask me to submit the undertaking which i did but</td>\n",
       "      <td>1</td>\n",
       "    </tr>\n",
       "    <tr>\n",
       "      <td>xxbos i seldom provide feedback but my recent two encounters with citibank triggered my thoughts to provide one i signed up citi premiermiles card with citibank in february this year as i am a frequent traveler and i hope to tap on to citibank s privilege my first request was a temporarily increase of credit limit as i knew i wasn t qualified for a permanent increase i needed to</td>\n",
       "      <td>1</td>\n",
       "    </tr>\n",
       "  </tbody>\n",
       "</table>"
      ],
      "text/plain": [
       "<IPython.core.display.HTML object>"
      ]
     },
     "metadata": {},
     "output_type": "display_data"
    }
   ],
   "source": [
    "# text data and the labeled data\n",
    "data_clas.show_batch()"
   ]
  },
  {
   "cell_type": "code",
   "execution_count": 26,
   "metadata": {
    "colab": {},
    "colab_type": "code",
    "id": "uqvROg0iwLc6"
   },
   "outputs": [],
   "source": [
    "# loading the weights \n",
    "learn = text_classifier_learner(data_clas, AWD_LSTM, drop_mult=0.7)\n",
    "learn.load_encoder('ft_enc')"
   ]
  },
  {
   "cell_type": "code",
   "execution_count": 27,
   "metadata": {
    "colab": {
     "base_uri": "https://localhost:8080/",
     "height": 335
    },
    "colab_type": "code",
    "id": "r2IUtpjY3vew",
    "outputId": "fff0af78-4e7e-41ca-945f-7704d31d19dd"
   },
   "outputs": [
    {
     "data": {
      "text/html": [],
      "text/plain": [
       "<IPython.core.display.HTML object>"
      ]
     },
     "metadata": {},
     "output_type": "display_data"
    },
    {
     "name": "stdout",
     "output_type": "stream",
     "text": [
      "LR Finder is complete, type {learner_name}.recorder.plot() to see the graph.\n",
      "Min numerical gradient: 7.59E-07\n"
     ]
    },
    {
     "data": {
      "image/png": "[encoded data removed]",
      "text/plain": [
       "<Figure size 432x288 with 1 Axes>"
      ]
     },
     "metadata": {},
     "output_type": "display_data"
    }
   ],
   "source": [
    "# finding the best learning rate\n",
    "learn.lr_find()\n",
    "learn.recorder.plot(suggestion=True)"
   ]
  },
  {
   "cell_type": "code",
   "execution_count": 43,
   "metadata": {
    "colab": {
     "base_uri": "https://localhost:8080/",
     "height": 35
    },
    "colab_type": "code",
    "id": "M_3npzjZ33tq",
    "outputId": "f86f8e0c-3a84-41a1-8b72-1888c0213987"
   },
   "outputs": [
    {
     "data": {
      "text/plain": [
       "0.006309573444801929"
      ]
     },
     "execution_count": 43,
     "metadata": {
      "tags": []
     },
     "output_type": "execute_result"
    }
   ],
   "source": [
    "best_lm_lr = learn.recorder.min_grad_lr\n",
    "best_lm_lr"
   ]
  },
  {
   "cell_type": "code",
   "execution_count": 45,
   "metadata": {
    "colab": {
     "base_uri": "https://localhost:8080/",
     "height": 198
    },
    "colab_type": "code",
    "id": "ZWw5Pc2T4AsX",
    "outputId": "ad398468-f141-4e1d-d0de-2e4fd7ee4fa8"
   },
   "outputs": [
    {
     "data": {
      "text/html": [
       "<table border=\"1\" class=\"dataframe\">\n",
       "  <thead>\n",
       "    <tr style=\"text-align: left;\">\n",
       "      <th>epoch</th>\n",
       "      <th>train_loss</th>\n",
       "      <th>valid_loss</th>\n",
       "      <th>accuracy</th>\n",
       "      <th>time</th>\n",
       "    </tr>\n",
       "  </thead>\n",
       "  <tbody>\n",
       "    <tr>\n",
       "      <td>0</td>\n",
       "      <td>0.606595</td>\n",
       "      <td>0.454823</td>\n",
       "      <td>0.784763</td>\n",
       "      <td>00:37</td>\n",
       "    </tr>\n",
       "    <tr>\n",
       "      <td>1</td>\n",
       "      <td>0.608407</td>\n",
       "      <td>0.475268</td>\n",
       "      <td>0.793789</td>\n",
       "      <td>00:41</td>\n",
       "    </tr>\n",
       "    <tr>\n",
       "      <td>2</td>\n",
       "      <td>0.591351</td>\n",
       "      <td>0.443952</td>\n",
       "      <td>0.796368</td>\n",
       "      <td>00:40</td>\n",
       "    </tr>\n",
       "    <tr>\n",
       "      <td>3</td>\n",
       "      <td>0.589492</td>\n",
       "      <td>0.443033</td>\n",
       "      <td>0.795508</td>\n",
       "      <td>00:37</td>\n",
       "    </tr>\n",
       "    <tr>\n",
       "      <td>4</td>\n",
       "      <td>0.604431</td>\n",
       "      <td>0.475189</td>\n",
       "      <td>0.785622</td>\n",
       "      <td>00:37</td>\n",
       "    </tr>\n",
       "  </tbody>\n",
       "</table>"
      ],
      "text/plain": [
       "<IPython.core.display.HTML object>"
      ]
     },
     "metadata": {
      "tags": []
     },
     "output_type": "display_data"
    }
   ],
   "source": [
    "# performance of the model with no layers being unfrozen and epochs=5\n",
    "learn.fit_one_cycle(5, best_lm_lr)"
   ]
  },
  {
   "cell_type": "code",
   "execution_count": 52,
   "metadata": {},
   "outputs": [
    {
     "data": {
      "image/png": "[encoded data removed]",
      "text/plain": [
       "<Figure size 432x288 with 1 Axes>"
      ]
     },
     "metadata": {},
     "output_type": "display_data"
    }
   ],
   "source": [
    "# Confusion matrix for the model prediction\n",
    "from fastai.version import *\n",
    "\n",
    "preds, y, losses = learn.get_preds(with_loss=True)\n",
    "interp = ClassificationInterpretation(learn,preds,y,losses)\n",
    "interp.plot_confusion_matrix()"
   ]
  },
  {
   "cell_type": "markdown",
   "metadata": {},
   "source": [
    "#    "
   ]
  },
  {
   "cell_type": "code",
   "execution_count": 41,
   "metadata": {
    "colab": {},
    "colab_type": "code",
    "id": "bjfacTwU4HoC"
   },
   "outputs": [],
   "source": [
    "# Two layers are being unfrozen\n",
    "learn.freeze_to(-2)"
   ]
  },
  {
   "cell_type": "code",
   "execution_count": 42,
   "metadata": {},
   "outputs": [
    {
     "data": {
      "text/html": [],
      "text/plain": [
       "<IPython.core.display.HTML object>"
      ]
     },
     "metadata": {},
     "output_type": "display_data"
    },
    {
     "name": "stdout",
     "output_type": "stream",
     "text": [
      "LR Finder is complete, type {learner_name}.recorder.plot() to see the graph.\n",
      "Min numerical gradient: 2.29E-06\n"
     ]
    },
    {
     "data": {
      "image/png": "[encoded data removed]",
      "text/plain": [
       "<Figure size 432x288 with 1 Axes>"
      ]
     },
     "metadata": {},
     "output_type": "display_data"
    }
   ],
   "source": [
    "#finding the best learning rate\n",
    "learn.lr_find()\n",
    "learn.recorder.plot(suggestion=True)"
   ]
  },
  {
   "cell_type": "code",
   "execution_count": 43,
   "metadata": {},
   "outputs": [
    {
     "data": {
      "text/plain": [
       "2.2908676527677735e-06"
      ]
     },
     "execution_count": 43,
     "metadata": {},
     "output_type": "execute_result"
    }
   ],
   "source": [
    "best_lm_lr = learn.recorder.min_grad_lr\n",
    "best_lm_lr"
   ]
  },
  {
   "cell_type": "code",
   "execution_count": 45,
   "metadata": {
    "colab": {
     "base_uri": "https://localhost:8080/",
     "height": 465
    },
    "colab_type": "code",
    "id": "gQ962xvi4Ha2",
    "outputId": "cce330e1-5ba3-4e76-aaa7-aa39645cc0a8"
   },
   "outputs": [
    {
     "data": {
      "text/html": [
       "<table border=\"1\" class=\"dataframe\">\n",
       "  <thead>\n",
       "    <tr style=\"text-align: left;\">\n",
       "      <th>epoch</th>\n",
       "      <th>train_loss</th>\n",
       "      <th>valid_loss</th>\n",
       "      <th>accuracy</th>\n",
       "      <th>time</th>\n",
       "    </tr>\n",
       "  </thead>\n",
       "  <tbody>\n",
       "    <tr>\n",
       "      <td>0</td>\n",
       "      <td>0.711770</td>\n",
       "      <td>0.699905</td>\n",
       "      <td>0.505588</td>\n",
       "      <td>42:08</td>\n",
       "    </tr>\n",
       "    <tr>\n",
       "      <td>1</td>\n",
       "      <td>0.702048</td>\n",
       "      <td>0.673536</td>\n",
       "      <td>0.572212</td>\n",
       "      <td>39:15</td>\n",
       "    </tr>\n",
       "    <tr>\n",
       "      <td>2</td>\n",
       "      <td>0.698006</td>\n",
       "      <td>0.663918</td>\n",
       "      <td>0.598539</td>\n",
       "      <td>41:43</td>\n",
       "    </tr>\n",
       "    <tr>\n",
       "      <td>3</td>\n",
       "      <td>0.691286</td>\n",
       "      <td>0.668945</td>\n",
       "      <td>0.566839</td>\n",
       "      <td>39:23</td>\n",
       "    </tr>\n",
       "    <tr>\n",
       "      <td>4</td>\n",
       "      <td>0.691059</td>\n",
       "      <td>0.663352</td>\n",
       "      <td>0.595530</td>\n",
       "      <td>44:49</td>\n",
       "    </tr>\n",
       "  </tbody>\n",
       "</table>"
      ],
      "text/plain": [
       "<IPython.core.display.HTML object>"
      ]
     },
     "metadata": {},
     "output_type": "display_data"
    },
    {
     "data": {
      "image/png": "[encoded data removed]",
      "text/plain": [
       "<Figure size 432x288 with 1 Axes>"
      ]
     },
     "metadata": {},
     "output_type": "display_data"
    }
   ],
   "source": [
    "# training the model with 5 epochs\n",
    "learn.fit_one_cycle(5, best_lm_lr)\n",
    "learn.recorder.plot_losses()"
   ]
  },
  {
   "cell_type": "code",
   "execution_count": 46,
   "metadata": {},
   "outputs": [
    {
     "data": {
      "image/png": "[encoded data removed]",
      "text/plain": [
       "<Figure size 432x288 with 1 Axes>"
      ]
     },
     "metadata": {},
     "output_type": "display_data"
    }
   ],
   "source": [
    "#plotting the confusion matrix\n",
    "from fastai.version import *\n",
    "\n",
    "preds, y, losses = learn.get_preds(with_loss=True)\n",
    "interp = ClassificationInterpretation(learn,preds,y,losses)\n",
    "interp.plot_confusion_matrix()"
   ]
  },
  {
   "cell_type": "markdown",
   "metadata": {},
   "source": [
    "#    "
   ]
  },
  {
   "cell_type": "code",
   "execution_count": 47,
   "metadata": {},
   "outputs": [
    {
     "data": {
      "text/plain": [
       "<bound method Learner.unfreeze of RNNLearner(data=TextClasDataBunch;\n",
       "\n",
       "Train: LabelList (37221 items)\n",
       "x: TextList\n",
       "xxbos can someone pelase answer me chasesupport,xxbos hi i use the chase app on my phone to deposit checks to my checking account if i wanted to use the app to deposit a check that was written to my mom how would i go about doing that,xxbos hsbc uk after opening my student account i still have nt recieved my amazon voucher,xxbos hsbc uk your customer service is absolutely xxunk if you can even call it customer service,xxbos\n",
       "y: CategoryList\n",
       "0,1,1,1,0\n",
       "Path: /Users/rohitbohra/Documents/bank;\n",
       "\n",
       "Valid: LabelList (9306 items)\n",
       "x: TextList\n",
       "xxbos xxunk not good enough too little too late thankfully firstdirect with their excellent customer service which is rare for me tonight are on the case now tv serial xxunk you have lost my custom now,xxbos perfect thank you so much,xxbos i ve been trying to activate my card at http citi com activate at the end it says we re sorry http citi com is temporarily unavailable quot for the past hours any news,xxbos chasesupport thx for letting someone fraudulently withdraw funds from my account at a branch support ca nt tell me what branch wtf,xxbos as a gesture of goodwill i d like a m amp s voucher to spend on food for the problems this has caused me thank you caroline christian\n",
       "y: CategoryList\n",
       "0,0,1,1,0\n",
       "Path: /Users/rohitbohra/Documents/bank;\n",
       "\n",
       "Test: None, model=SequentialRNN(\n",
       "  (0): MultiBatchEncoder(\n",
       "    (module): AWD_LSTM(\n",
       "      (encoder): Embedding(12684, 400, padding_idx=1)\n",
       "      (encoder_dp): EmbeddingDropout(\n",
       "        (emb): Embedding(12684, 400, padding_idx=1)\n",
       "      )\n",
       "      (rnns): ModuleList(\n",
       "        (0): WeightDropout(\n",
       "          (module): LSTM(400, 1150, batch_first=True)\n",
       "        )\n",
       "        (1): WeightDropout(\n",
       "          (module): LSTM(1150, 1150, batch_first=True)\n",
       "        )\n",
       "        (2): WeightDropout(\n",
       "          (module): LSTM(1150, 400, batch_first=True)\n",
       "        )\n",
       "      )\n",
       "      (input_dp): RNNDropout()\n",
       "      (hidden_dps): ModuleList(\n",
       "        (0): RNNDropout()\n",
       "        (1): RNNDropout()\n",
       "        (2): RNNDropout()\n",
       "      )\n",
       "    )\n",
       "  )\n",
       "  (1): PoolingLinearClassifier(\n",
       "    (layers): Sequential(\n",
       "      (0): BatchNorm1d(1200, eps=1e-05, momentum=0.1, affine=True, track_running_stats=True)\n",
       "      (1): Dropout(p=0.27999999999999997)\n",
       "      (2): Linear(in_features=1200, out_features=50, bias=True)\n",
       "      (3): ReLU(inplace)\n",
       "      (4): BatchNorm1d(50, eps=1e-05, momentum=0.1, affine=True, track_running_stats=True)\n",
       "      (5): Dropout(p=0.1)\n",
       "      (6): Linear(in_features=50, out_features=2, bias=True)\n",
       "    )\n",
       "  )\n",
       "), opt_func=functools.partial(<class 'torch.optim.adam.Adam'>, betas=(0.9, 0.99)), loss_func=FlattenedLoss of CrossEntropyLoss(), metrics=[<function accuracy at 0x1a2c8cb730>], true_wd=True, bn_wd=True, wd=0.01, train_bn=True, path=PosixPath('/Users/rohitbohra/Documents/bank'), model_dir='models', callback_fns=[functools.partial(<class 'fastai.basic_train.Recorder'>, add_time=True, silent=False)], callbacks=[RNNTrainer\n",
       "learn: RNNLearner(data=TextClasDataBunch;\n",
       "\n",
       "Train: LabelList (37221 items)\n",
       "x: TextList\n",
       "xxbos can someone pelase answer me chasesupport,xxbos hi i use the chase app on my phone to deposit checks to my checking account if i wanted to use the app to deposit a check that was written to my mom how would i go about doing that,xxbos hsbc uk after opening my student account i still have nt recieved my amazon voucher,xxbos hsbc uk your customer service is absolutely xxunk if you can even call it customer service,xxbos\n",
       "y: CategoryList\n",
       "0,1,1,1,0\n",
       "Path: /Users/rohitbohra/Documents/bank;\n",
       "\n",
       "Valid: LabelList (9306 items)\n",
       "x: TextList\n",
       "xxbos xxunk not good enough too little too late thankfully firstdirect with their excellent customer service which is rare for me tonight are on the case now tv serial xxunk you have lost my custom now,xxbos perfect thank you so much,xxbos i ve been trying to activate my card at http citi com activate at the end it says we re sorry http citi com is temporarily unavailable quot for the past hours any news,xxbos chasesupport thx for letting someone fraudulently withdraw funds from my account at a branch support ca nt tell me what branch wtf,xxbos as a gesture of goodwill i d like a m amp s voucher to spend on food for the problems this has caused me thank you caroline christian\n",
       "y: CategoryList\n",
       "0,0,1,1,0\n",
       "Path: /Users/rohitbohra/Documents/bank;\n",
       "\n",
       "Test: None, model=SequentialRNN(\n",
       "  (0): MultiBatchEncoder(\n",
       "    (module): AWD_LSTM(\n",
       "      (encoder): Embedding(12684, 400, padding_idx=1)\n",
       "      (encoder_dp): EmbeddingDropout(\n",
       "        (emb): Embedding(12684, 400, padding_idx=1)\n",
       "      )\n",
       "      (rnns): ModuleList(\n",
       "        (0): WeightDropout(\n",
       "          (module): LSTM(400, 1150, batch_first=True)\n",
       "        )\n",
       "        (1): WeightDropout(\n",
       "          (module): LSTM(1150, 1150, batch_first=True)\n",
       "        )\n",
       "        (2): WeightDropout(\n",
       "          (module): LSTM(1150, 400, batch_first=True)\n",
       "        )\n",
       "      )\n",
       "      (input_dp): RNNDropout()\n",
       "      (hidden_dps): ModuleList(\n",
       "        (0): RNNDropout()\n",
       "        (1): RNNDropout()\n",
       "        (2): RNNDropout()\n",
       "      )\n",
       "    )\n",
       "  )\n",
       "  (1): PoolingLinearClassifier(\n",
       "    (layers): Sequential(\n",
       "      (0): BatchNorm1d(1200, eps=1e-05, momentum=0.1, affine=True, track_running_stats=True)\n",
       "      (1): Dropout(p=0.27999999999999997)\n",
       "      (2): Linear(in_features=1200, out_features=50, bias=True)\n",
       "      (3): ReLU(inplace)\n",
       "      (4): BatchNorm1d(50, eps=1e-05, momentum=0.1, affine=True, track_running_stats=True)\n",
       "      (5): Dropout(p=0.1)\n",
       "      (6): Linear(in_features=50, out_features=2, bias=True)\n",
       "    )\n",
       "  )\n",
       "), opt_func=functools.partial(<class 'torch.optim.adam.Adam'>, betas=(0.9, 0.99)), loss_func=FlattenedLoss of CrossEntropyLoss(), metrics=[<function accuracy at 0x1a2c8cb730>], true_wd=True, bn_wd=True, wd=0.01, train_bn=True, path=PosixPath('/Users/rohitbohra/Documents/bank'), model_dir='models', callback_fns=[functools.partial(<class 'fastai.basic_train.Recorder'>, add_time=True, silent=False)], callbacks=[...], layer_groups=[Sequential(\n",
       "  (0): Embedding(12684, 400, padding_idx=1)\n",
       "  (1): EmbeddingDropout(\n",
       "    (emb): Embedding(12684, 400, padding_idx=1)\n",
       "  )\n",
       "), Sequential(\n",
       "  (0): WeightDropout(\n",
       "    (module): LSTM(400, 1150, batch_first=True)\n",
       "  )\n",
       "  (1): RNNDropout()\n",
       "), Sequential(\n",
       "  (0): WeightDropout(\n",
       "    (module): LSTM(1150, 1150, batch_first=True)\n",
       "  )\n",
       "  (1): RNNDropout()\n",
       "), Sequential(\n",
       "  (0): WeightDropout(\n",
       "    (module): LSTM(1150, 400, batch_first=True)\n",
       "  )\n",
       "  (1): RNNDropout()\n",
       "), Sequential(\n",
       "  (0): PoolingLinearClassifier(\n",
       "    (layers): Sequential(\n",
       "      (0): BatchNorm1d(1200, eps=1e-05, momentum=0.1, affine=True, track_running_stats=True)\n",
       "      (1): Dropout(p=0.27999999999999997)\n",
       "      (2): Linear(in_features=1200, out_features=50, bias=True)\n",
       "      (3): ReLU(inplace)\n",
       "      (4): BatchNorm1d(50, eps=1e-05, momentum=0.1, affine=True, track_running_stats=True)\n",
       "      (5): Dropout(p=0.1)\n",
       "      (6): Linear(in_features=50, out_features=2, bias=True)\n",
       "    )\n",
       "  )\n",
       ")], add_time=True, silent=False)\n",
       "alpha: 2.0\n",
       "beta: 1.0], layer_groups=[Sequential(\n",
       "  (0): Embedding(12684, 400, padding_idx=1)\n",
       "  (1): EmbeddingDropout(\n",
       "    (emb): Embedding(12684, 400, padding_idx=1)\n",
       "  )\n",
       "), Sequential(\n",
       "  (0): WeightDropout(\n",
       "    (module): LSTM(400, 1150, batch_first=True)\n",
       "  )\n",
       "  (1): RNNDropout()\n",
       "), Sequential(\n",
       "  (0): WeightDropout(\n",
       "    (module): LSTM(1150, 1150, batch_first=True)\n",
       "  )\n",
       "  (1): RNNDropout()\n",
       "), Sequential(\n",
       "  (0): WeightDropout(\n",
       "    (module): LSTM(1150, 400, batch_first=True)\n",
       "  )\n",
       "  (1): RNNDropout()\n",
       "), Sequential(\n",
       "  (0): PoolingLinearClassifier(\n",
       "    (layers): Sequential(\n",
       "      (0): BatchNorm1d(1200, eps=1e-05, momentum=0.1, affine=True, track_running_stats=True)\n",
       "      (1): Dropout(p=0.27999999999999997)\n",
       "      (2): Linear(in_features=1200, out_features=50, bias=True)\n",
       "      (3): ReLU(inplace)\n",
       "      (4): BatchNorm1d(50, eps=1e-05, momentum=0.1, affine=True, track_running_stats=True)\n",
       "      (5): Dropout(p=0.1)\n",
       "      (6): Linear(in_features=50, out_features=2, bias=True)\n",
       "    )\n",
       "  )\n",
       ")], add_time=True, silent=False)>"
      ]
     },
     "execution_count": 47,
     "metadata": {},
     "output_type": "execute_result"
    }
   ],
   "source": [
    "#All the layers are unfrozen\n",
    "learn.unfreeze"
   ]
  },
  {
   "cell_type": "code",
   "execution_count": 48,
   "metadata": {},
   "outputs": [
    {
     "data": {
      "text/html": [],
      "text/plain": [
       "<IPython.core.display.HTML object>"
      ]
     },
     "metadata": {},
     "output_type": "display_data"
    },
    {
     "name": "stdout",
     "output_type": "stream",
     "text": [
      "LR Finder is complete, type {learner_name}.recorder.plot() to see the graph.\n",
      "Min numerical gradient: 5.25E-03\n"
     ]
    },
    {
     "data": {
      "image/png": "[encoded data removed]",
      "text/plain": [
       "<Figure size 432x288 with 1 Axes>"
      ]
     },
     "metadata": {},
     "output_type": "display_data"
    }
   ],
   "source": [
    "#finding the best learning rate\n",
    "learn.lr_find()\n",
    "learn.recorder.plot(suggestion=True)"
   ]
  },
  {
   "cell_type": "code",
   "execution_count": 49,
   "metadata": {},
   "outputs": [
    {
     "data": {
      "text/plain": [
       "0.005248074602497722"
      ]
     },
     "execution_count": 49,
     "metadata": {},
     "output_type": "execute_result"
    }
   ],
   "source": [
    "best_lm_lr = learn.recorder.min_grad_lr\n",
    "best_lm_lr"
   ]
  },
  {
   "cell_type": "code",
   "execution_count": 50,
   "metadata": {},
   "outputs": [
    {
     "data": {
      "text/html": [
       "<table border=\"1\" class=\"dataframe\">\n",
       "  <thead>\n",
       "    <tr style=\"text-align: left;\">\n",
       "      <th>epoch</th>\n",
       "      <th>train_loss</th>\n",
       "      <th>valid_loss</th>\n",
       "      <th>accuracy</th>\n",
       "      <th>time</th>\n",
       "    </tr>\n",
       "  </thead>\n",
       "  <tbody>\n",
       "    <tr>\n",
       "      <td>0</td>\n",
       "      <td>0.612191</td>\n",
       "      <td>0.513683</td>\n",
       "      <td>0.775521</td>\n",
       "      <td>44:23</td>\n",
       "    </tr>\n",
       "    <tr>\n",
       "      <td>1</td>\n",
       "      <td>0.569155</td>\n",
       "      <td>0.432759</td>\n",
       "      <td>0.798410</td>\n",
       "      <td>46:19</td>\n",
       "    </tr>\n",
       "    <tr>\n",
       "      <td>2</td>\n",
       "      <td>0.568110</td>\n",
       "      <td>0.417786</td>\n",
       "      <td>0.815066</td>\n",
       "      <td>43:29</td>\n",
       "    </tr>\n",
       "    <tr>\n",
       "      <td>3</td>\n",
       "      <td>0.509216</td>\n",
       "      <td>0.396408</td>\n",
       "      <td>0.826134</td>\n",
       "      <td>42:42</td>\n",
       "    </tr>\n",
       "    <tr>\n",
       "      <td>4</td>\n",
       "      <td>0.526981</td>\n",
       "      <td>0.394456</td>\n",
       "      <td>0.826564</td>\n",
       "      <td>43:46</td>\n",
       "    </tr>\n",
       "  </tbody>\n",
       "</table>"
      ],
      "text/plain": [
       "<IPython.core.display.HTML object>"
      ]
     },
     "metadata": {},
     "output_type": "display_data"
    },
    {
     "data": {
      "image/png": "[encoded data removed]",
      "text/plain": [
       "<Figure size 432x288 with 1 Axes>"
      ]
     },
     "metadata": {},
     "output_type": "display_data"
    }
   ],
   "source": [
    "# training the model with 5 epochs and seeing the performance of the model\n",
    "learn.fit_one_cycle(5, best_lm_lr)\n",
    "learn.recorder.plot_losses()"
   ]
  },
  {
   "cell_type": "code",
   "execution_count": 51,
   "metadata": {},
   "outputs": [
    {
     "data": {
      "image/png": "[encoded data removed]",
      "text/plain": [
       "<Figure size 432x288 with 1 Axes>"
      ]
     },
     "metadata": {},
     "output_type": "display_data"
    }
   ],
   "source": [
    "#plotting of Confusion Matrix\n",
    "from fastai.version import *\n",
    "\n",
    "preds, y, losses = learn.get_preds(with_loss=True)\n",
    "interp = ClassificationInterpretation(learn,preds,y,losses)\n",
    "interp.plot_confusion_matrix()"
   ]
  },
  {
   "cell_type": "code",
   "execution_count": 53,
   "metadata": {},
   "outputs": [
    {
     "data": {
      "text/html": [
       "<table border=\"1\" class=\"dataframe\">\n",
       "  <thead>\n",
       "    <tr style=\"text-align: left;\">\n",
       "      <th>epoch</th>\n",
       "      <th>train_loss</th>\n",
       "      <th>valid_loss</th>\n",
       "      <th>accuracy</th>\n",
       "      <th>time</th>\n",
       "    </tr>\n",
       "  </thead>\n",
       "  <tbody>\n",
       "    <tr>\n",
       "      <td>0</td>\n",
       "      <td>0.526342</td>\n",
       "      <td>0.441469</td>\n",
       "      <td>0.810660</td>\n",
       "      <td>44:56</td>\n",
       "    </tr>\n",
       "    <tr>\n",
       "      <td>1</td>\n",
       "      <td>0.505760</td>\n",
       "      <td>0.411749</td>\n",
       "      <td>0.821083</td>\n",
       "      <td>46:14</td>\n",
       "    </tr>\n",
       "    <tr>\n",
       "      <td>2</td>\n",
       "      <td>0.529949</td>\n",
       "      <td>0.390205</td>\n",
       "      <td>0.827960</td>\n",
       "      <td>42:57</td>\n",
       "    </tr>\n",
       "    <tr>\n",
       "      <td>3</td>\n",
       "      <td>0.535112</td>\n",
       "      <td>0.399645</td>\n",
       "      <td>0.828390</td>\n",
       "      <td>40:25</td>\n",
       "    </tr>\n",
       "    <tr>\n",
       "      <td>4</td>\n",
       "      <td>0.540120</td>\n",
       "      <td>0.400459</td>\n",
       "      <td>0.824522</td>\n",
       "      <td>42:39</td>\n",
       "    </tr>\n",
       "    <tr>\n",
       "      <td>5</td>\n",
       "      <td>0.522433</td>\n",
       "      <td>0.391001</td>\n",
       "      <td>0.830539</td>\n",
       "      <td>46:05</td>\n",
       "    </tr>\n",
       "    <tr>\n",
       "      <td>6</td>\n",
       "      <td>0.501271</td>\n",
       "      <td>0.409175</td>\n",
       "      <td>0.829572</td>\n",
       "      <td>41:38</td>\n",
       "    </tr>\n",
       "    <tr>\n",
       "      <td>7</td>\n",
       "      <td>0.501646</td>\n",
       "      <td>0.391458</td>\n",
       "      <td>0.837847</td>\n",
       "      <td>41:07</td>\n",
       "    </tr>\n",
       "    <tr>\n",
       "      <td>8</td>\n",
       "      <td>0.485213</td>\n",
       "      <td>0.394269</td>\n",
       "      <td>0.836342</td>\n",
       "      <td>42:57</td>\n",
       "    </tr>\n",
       "    <tr>\n",
       "      <td>9</td>\n",
       "      <td>0.485791</td>\n",
       "      <td>0.396591</td>\n",
       "      <td>0.835482</td>\n",
       "      <td>43:30</td>\n",
       "    </tr>\n",
       "  </tbody>\n",
       "</table>"
      ],
      "text/plain": [
       "<IPython.core.display.HTML object>"
      ]
     },
     "metadata": {},
     "output_type": "display_data"
    },
    {
     "data": {
      "image/png": "[encoded data removed]",
      "text/plain": [
       "<Figure size 432x288 with 1 Axes>"
      ]
     },
     "metadata": {},
     "output_type": "display_data"
    }
   ],
   "source": [
    "# training the model with 10 epochs and seeing the performance of the model\n",
    "learn.fit_one_cycle(10, best_lm_lr)\n",
    "learn.recorder.plot_losses()"
   ]
  },
  {
   "cell_type": "code",
   "execution_count": 54,
   "metadata": {},
   "outputs": [
    {
     "data": {
      "image/png": "[encoded data removed]",
      "text/plain": [
       "<Figure size 432x288 with 1 Axes>"
      ]
     },
     "metadata": {},
     "output_type": "display_data"
    }
   ],
   "source": [
    "# plotting of the Confusion Matrix\n",
    "from fastai.version import *\n",
    "\n",
    "preds, y, losses = learn.get_preds(with_loss=True)\n",
    "interp = ClassificationInterpretation(learn,preds,y,losses)\n",
    "interp.plot_confusion_matrix()"
   ]
  },
  {
   "cell_type": "code",
   "execution_count": 55,
   "metadata": {
    "colab": {
     "base_uri": "https://localhost:8080/",
     "height": 371
    },
    "colab_type": "code",
    "id": "dcMAizZZ6FIN",
    "outputId": "d9402808-98f9-4a47-df78-d363acf164e2"
   },
   "outputs": [
    {
     "data": {
      "text/html": [
       "<table border=\"1\" class=\"dataframe\">\n",
       "  <thead>\n",
       "    <tr style=\"text-align: right;\">\n",
       "      <th>text</th>\n",
       "      <th>target</th>\n",
       "      <th>prediction</th>\n",
       "    </tr>\n",
       "  </thead>\n",
       "  <tbody>\n",
       "    <tr>\n",
       "      <td>xxbos hello my l bank i have two accounts with your sick bank one is nre and the other one is xxunk account initially it was s b account then in my s b account was converted to xxunk then in addition to that nre account was added to my profile due to my overseas movement for work i am here to share an ugly pathetic frustrating all other bad</td>\n",
       "      <td>1</td>\n",
       "      <td>1</td>\n",
       "    </tr>\n",
       "    <tr>\n",
       "      <td>xxbos in response to a comment i made on facebook people have tried gaining the information for the loan we attempted with wells fargo i really do nt see a point to this because we have been reached out to by multiple people within the wells fargo company to resolve the issues we faced and just days ago we were told again there was nothing they you can do to</td>\n",
       "      <td>1</td>\n",
       "      <td>1</td>\n",
       "    </tr>\n",
       "    <tr>\n",
       "      <td>xxbos re citi premier card ending in sign up bonus i d xxunk to file a complaint i was not credited with the points i was promised for signing up and spending within the first months of opening the account i complied with all the requirements and even confirmed twice over the phone with a citi representative that i was eligible before and when the card was issued i depend</td>\n",
       "      <td>1</td>\n",
       "      <td>1</td>\n",
       "    </tr>\n",
       "    <tr>\n",
       "      <td>xxbos i used to love chase bank especially my home branch i even opened a business account when i started my business i actually enjoyed going into the bank i ve had a bank account with citibank for over thirty years it s still there i was going to move that account to chase but i didn t and now i m so glad i didn t what i liked</td>\n",
       "      <td>1</td>\n",
       "      <td>1</td>\n",
       "    </tr>\n",
       "    <tr>\n",
       "      <td>xxbos hi i just want to provide some feedback about my horrible experiences with chase branches i have a chase premier checking account united chase credit card and a mortgage through chase so i decided to open a safety deposit box with chase as well at first i called the chase branch at xxunk st i must have called at least times to check if they had any availability but</td>\n",
       "      <td>1</td>\n",
       "      <td>1</td>\n",
       "    </tr>\n",
       "  </tbody>\n",
       "</table>"
      ],
      "text/plain": [
       "<IPython.core.display.HTML object>"
      ]
     },
     "metadata": {},
     "output_type": "display_data"
    }
   ],
   "source": [
    "# Result of the prediction\n",
    "learn.show_results()"
   ]
  },
  {
   "cell_type": "markdown",
   "metadata": {
    "colab": {},
    "colab_type": "code",
    "id": "ZFAEcOOX6Pia"
   },
   "source": [
    "#   "
   ]
  },
  {
   "cell_type": "code",
   "execution_count": 56,
   "metadata": {
    "colab": {},
    "colab_type": "code",
    "id": "mRom74no6PS1"
   },
   "outputs": [],
   "source": [
    "# showing the importance of words in the review sample\n",
    "import matplotlib.cm as cm\n",
    "txt_ci = TextClassificationInterpretation.from_learner(learn)"
   ]
  },
  {
   "cell_type": "code",
   "execution_count": 58,
   "metadata": {
    "colab": {
     "base_uri": "https://localhost:8080/",
     "height": 35
    },
    "colab_type": "code",
    "id": "e7ROP0G56jH0",
    "outputId": "2463e813-1908-4ab7-8848-80aacdbfdd89"
   },
   "outputs": [
    {
     "data": {
      "text/html": [
       "<span style=\"font-family: monospace;\"><span title=\"0.656\" style=\"background-color: rgba(122, 114, 180, 0.5);\">xxbos</span> <span title=\"1.000\" style=\"background-color: rgba(63, 0, 125, 0.5);\">hello</span> <span title=\"0.461\" style=\"background-color: rgba(166, 164, 205, 0.5);\">my</span> <span title=\"0.896\" style=\"background-color: rgba(80, 31, 139, 0.5);\">l</span> <span title=\"0.761\" style=\"background-color: rgba(104, 77, 161, 0.5);\">bank</span> <span title=\"0.445\" style=\"background-color: rgba(170, 168, 208, 0.5);\">i</span> <span title=\"0.569\" style=\"background-color: rgba(141, 138, 192, 0.5);\">have</span> <span title=\"0.657\" style=\"background-color: rgba(122, 113, 179, 0.5);\">two</span> <span title=\"0.755\" style=\"background-color: rgba(104, 78, 161, 0.5);\">accounts</span> <span title=\"0.495\" style=\"background-color: rgba(159, 155, 200, 0.5);\">with</span> <span title=\"0.325\" style=\"background-color: rgba(199, 200, 225, 0.5);\">your</span> <span title=\"0.625\" style=\"background-color: rgba(127, 124, 185, 0.5);\">sick</span> <span title=\"0.606\" style=\"background-color: rgba(132, 128, 187, 0.5);\">bank</span> <span title=\"0.469\" style=\"background-color: rgba(166, 163, 205, 0.5);\">one</span> <span title=\"0.416\" style=\"background-color: rgba(178, 177, 213, 0.5);\">is</span> <span title=\"0.777\" style=\"background-color: rgba(101, 72, 158, 0.5);\">nre</span> <span title=\"0.233\" style=\"background-color: rgba(221, 220, 236, 0.5);\">and</span> <span title=\"0.260\" style=\"background-color: rgba(215, 215, 233, 0.5);\">the</span> <span title=\"0.366\" style=\"background-color: rgba(190, 191, 221, 0.5);\">other</span> <span title=\"0.470\" style=\"background-color: rgba(165, 162, 204, 0.5);\">one</span> <span title=\"0.248\" style=\"background-color: rgba(218, 218, 235, 0.5);\">is</span> <span title=\"0.475\" style=\"background-color: rgba(164, 161, 204, 0.5);\">xxunk</span> <span title=\"0.599\" style=\"background-color: rgba(134, 130, 188, 0.5);\">account</span> <span title=\"0.317\" style=\"background-color: rgba(201, 202, 226, 0.5);\">initially</span> <span title=\"0.369\" style=\"background-color: rgba(189, 190, 220, 0.5);\">it</span> <span title=\"0.325\" style=\"background-color: rgba(199, 200, 225, 0.5);\">was</span> <span title=\"0.134\" style=\"background-color: rgba(237, 235, 244, 0.5);\">s</span> <span title=\"0.235\" style=\"background-color: rgba(220, 220, 236, 0.5);\">b</span> <span title=\"0.354\" style=\"background-color: rgba(193, 194, 222, 0.5);\">account</span> <span title=\"0.117\" style=\"background-color: rgba(239, 237, 245, 0.5);\">then</span> <span title=\"0.090\" style=\"background-color: rgba(243, 241, 247, 0.5);\">in</span> <span title=\"0.136\" style=\"background-color: rgba(237, 235, 244, 0.5);\">my</span> <span title=\"0.152\" style=\"background-color: rgba(234, 232, 242, 0.5);\">s</span> <span title=\"0.176\" style=\"background-color: rgba(230, 229, 240, 0.5);\">b</span> <span title=\"0.225\" style=\"background-color: rgba(222, 222, 237, 0.5);\">account</span> <span title=\"0.111\" style=\"background-color: rgba(240, 238, 245, 0.5);\">was</span> <span title=\"0.218\" style=\"background-color: rgba(223, 223, 237, 0.5);\">converted</span> <span title=\"0.122\" style=\"background-color: rgba(239, 237, 245, 0.5);\">to</span> <span title=\"0.287\" style=\"background-color: rgba(209, 209, 230, 0.5);\">xxunk</span> <span title=\"0.128\" style=\"background-color: rgba(238, 236, 244, 0.5);\">then</span> <span title=\"0.109\" style=\"background-color: rgba(240, 239, 246, 0.5);\">in</span> <span title=\"0.220\" style=\"background-color: rgba(223, 222, 237, 0.5);\">addition</span> <span title=\"0.256\" style=\"background-color: rgba(216, 216, 234, 0.5);\">to</span> <span title=\"0.272\" style=\"background-color: rgba(213, 213, 232, 0.5);\">that</span> <span title=\"0.272\" style=\"background-color: rgba(213, 213, 232, 0.5);\">nre</span> <span title=\"0.239\" style=\"background-color: rgba(219, 219, 235, 0.5);\">account</span> <span title=\"0.152\" style=\"background-color: rgba(234, 233, 243, 0.5);\">was</span> <span title=\"0.197\" style=\"background-color: rgba(227, 226, 239, 0.5);\">added</span> <span title=\"0.071\" style=\"background-color: rgba(244, 243, 248, 0.5);\">to</span> <span title=\"0.086\" style=\"background-color: rgba(243, 241, 247, 0.5);\">my</span> <span title=\"0.157\" style=\"background-color: rgba(233, 232, 242, 0.5);\">profile</span> <span title=\"0.115\" style=\"background-color: rgba(240, 238, 245, 0.5);\">due</span> <span title=\"0.144\" style=\"background-color: rgba(236, 234, 243, 0.5);\">to</span> <span title=\"0.191\" style=\"background-color: rgba(228, 227, 239, 0.5);\">my</span> <span title=\"0.317\" style=\"background-color: rgba(201, 202, 226, 0.5);\">overseas</span> <span title=\"0.379\" style=\"background-color: rgba(186, 187, 219, 0.5);\">movement</span> <span title=\"0.197\" style=\"background-color: rgba(227, 226, 239, 0.5);\">for</span> <span title=\"0.259\" style=\"background-color: rgba(215, 215, 233, 0.5);\">work</span> <span title=\"0.138\" style=\"background-color: rgba(236, 235, 244, 0.5);\">i</span> <span title=\"0.165\" style=\"background-color: rgba(232, 230, 241, 0.5);\">am</span> <span title=\"0.271\" style=\"background-color: rgba(213, 213, 232, 0.5);\">here</span> <span title=\"0.281\" style=\"background-color: rgba(210, 210, 231, 0.5);\">to</span> <span title=\"0.629\" style=\"background-color: rgba(127, 124, 185, 0.5);\">share</span> <span title=\"0.478\" style=\"background-color: rgba(163, 160, 203, 0.5);\">an</span> <span title=\"0.868\" style=\"background-color: rgba(84, 40, 143, 0.5);\">ugly</span> <span title=\"0.839\" style=\"background-color: rgba(90, 51, 148, 0.5);\">pathetic</span> <span title=\"0.558\" style=\"background-color: rgba(144, 140, 193, 0.5);\">frustrating</span> <span title=\"0.519\" style=\"background-color: rgba(153, 149, 198, 0.5);\">all</span> <span title=\"0.378\" style=\"background-color: rgba(187, 188, 219, 0.5);\">other</span> <span title=\"0.922\" style=\"background-color: rgba(76, 24, 136, 0.5);\">bad</span></span>"
      ],
      "text/plain": [
       "<IPython.core.display.HTML object>"
      ]
     },
     "metadata": {},
     "output_type": "display_data"
    }
   ],
   "source": [
    "test_text = \"hello my l bank i have two accounts with your sick bank one is nre and the other one is xxunk account initially it was s b account then in my s b account was converted to xxunk then in addition to that nre account was added to my profile due to my overseas movement for work i am here to share an ugly pathetic frustrating all other bad\"\n",
    "txt_ci.show_intrinsic_attention(test_text, cmap=cm.Purples)"
   ]
  },
  {
   "cell_type": "code",
   "execution_count": 59,
   "metadata": {
    "colab": {
     "base_uri": "https://localhost:8080/",
     "height": 35
    },
    "colab_type": "code",
    "id": "ygq_L_5965J9",
    "outputId": "f1231a65-c5c8-4092-cf1c-dfa70d8d19bc"
   },
   "outputs": [
    {
     "data": {
      "text/plain": [
       "tensor([0.4832, 0.5509, 0.8416, 1.0000, 0.3921, 0.6312], device='cuda:0')"
      ]
     },
     "execution_count": 59,
     "metadata": {
      "tags": []
     },
     "output_type": "execute_result"
    }
   ],
   "source": [
    "txt_ci.intrinsic_attention(test_text)[1]"
   ]
  },
  {
   "cell_type": "markdown",
   "metadata": {
    "colab": {},
    "colab_type": "code",
    "id": "_YrdFwVi-Lhc"
   },
   "source": [
    "# STEPS TAKEN \n",
    "\n",
    "1) ULMFIT uses a pre-trained text data of Wikitext-103. Using the pretrained language model we add a new classification layer on top of it, this make the model a pre-trained classification model.\n",
    "\n",
    "2) We train a language model with the text data by using the pre-trained weights of the language model.\n",
    "\n",
    "3) On top of language model we add a classification layer, which predict if the review is Engageble or Non-Engagebale.\n",
    "\n",
    "4) We experiment with the number of layers to unfreeze and then see which classification model performs well by considering the accuracy.\n"
   ]
  },
  {
   "cell_type": "code",
   "execution_count": 64,
   "metadata": {},
   "outputs": [
    {
     "name": "stdout",
     "output_type": "stream",
     "text": [
      "\n",
      "\t\t\t\t Performance Table\n",
      "+-------------------------+--------+------------+-----------------+----------+\n",
      "| No. of Layers Unfreezed | Epochs | Train Loss | Validation Loss | Accuracy |\n",
      "+-------------------------+--------+------------+-----------------+----------+\n",
      "|           None          |   5    |  0.604431  |     0.475189    |  78.56   |\n",
      "|            -2           |   5    |  0.691059  |     0.663352    |  59.55   |\n",
      "|   Unfreeze all layers   |   5    |  0.526981  |     0.394456    |  82.65   |\n",
      "|   Unfreeze all layers   |   10   |  0.485791  |     0.396591    |  83.54   |\n",
      "+-------------------------+--------+------------+-----------------+----------+\n"
     ]
    }
   ],
   "source": [
    "from prettytable import PrettyTable    \n",
    "x = PrettyTable()\n",
    " \n",
    "x.field_names = [\"No. of Layers Unfreezed\", \"Epochs\", \"Train Loss\", \"Validation Loss\", \"Accuracy\"]\n",
    "x.add_row([\"None\", 5, 0.604431, 0.475189, 78.56])\n",
    "x.add_row([-2, 5, 0.691059, 0.663352, 59.55])\n",
    "x.add_row([\"Unfreeze all layers\", 5, 0.526981, 0.394456, 82.65])\n",
    "x.add_row([\"Unfreeze all layers\", 10, 0.485791, 0.396591,83.54])\n",
    "\n",
    "\n",
    "print('\\n\\t\\t\\t\\t Performance Table')\n",
    "print(x)"
   ]
  },
  {
   "cell_type": "markdown",
   "metadata": {},
   "source": [
    "# CONCLUSION\n",
    "\n",
    "The model performs fairly well with ULMFIT and accuracy is high when compared to the previously built models.\n",
    "We use pre-trained weights which help in building a good classification model. \n",
    "\n",
    "The best accuracy is of 83.54% when we unfreeze all layers.\n",
    "\n",
    "When compared to previous models this model performed better than the previous ones."
   ]
  }
 ],
 "metadata": {
  "accelerator": "GPU",
  "colab": {
   "collapsed_sections": [],
   "name": "ULMfit.ipynb",
   "provenance": [],
   "version": "0.3.2"
  },
  "kernelspec": {
   "display_name": "Python 3",
   "language": "python",
   "name": "python3"
  },
  "language_info": {
   "codemirror_mode": {
    "name": "ipython",
    "version": 3
   },
   "file_extension": ".py",
   "mimetype": "text/x-python",
   "name": "python",
   "nbconvert_exporter": "python",
   "pygments_lexer": "ipython3",
   "version": "3.6.5"
  }
 },
 "nbformat": 4,
 "nbformat_minor": 1
}
